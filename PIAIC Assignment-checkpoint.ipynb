{
 "cells": [
  {
   "cell_type": "markdown",
   "id": "21b3732f",
   "metadata": {},
   "source": [
    "Variables and Strings\n",
    "\n",
    "1.Simple Message: Assign a message to a variable, and then print that message"
   ]
  },
  {
   "cell_type": "code",
   "execution_count": 1,
   "id": "1454507b",
   "metadata": {},
   "outputs": [],
   "source": [
    "name = \"My name is Muhammad Anas:\""
   ]
  },
  {
   "cell_type": "code",
   "execution_count": 2,
   "id": "5464ee65",
   "metadata": {},
   "outputs": [
    {
     "name": "stdout",
     "output_type": "stream",
     "text": [
      "My name is Muhammad Anas:\n"
     ]
    }
   ],
   "source": [
    "print(name)"
   ]
  },
  {
   "cell_type": "markdown",
   "id": "c163bfab",
   "metadata": {},
   "source": [
    "2.Find a quote from a famous person you admire. Print the quote and the name of its author. Your output should look something like the following, including the quotation marks:"
   ]
  },
  {
   "cell_type": "code",
   "execution_count": 6,
   "id": "306659b5",
   "metadata": {},
   "outputs": [],
   "source": [
    "quote = \"Charles spurgeon said that,'it is not how much we have but how much we enjoy that makes happines'.\""
   ]
  },
  {
   "cell_type": "code",
   "execution_count": 7,
   "id": "da1d4212",
   "metadata": {},
   "outputs": [
    {
     "name": "stdout",
     "output_type": "stream",
     "text": [
      "Charles spurgeon said that,'it is not how much we have but how much we enjoy that makes happines'.\n"
     ]
    }
   ],
   "source": [
    "print(quote)"
   ]
  },
  {
   "cell_type": "markdown",
   "id": "3e5439d3",
   "metadata": {},
   "source": [
    "Calculate Area of a Circle::\n",
    "Write a Python program which accepts the radius of a circle from the user and compute the area"
   ]
  },
  {
   "cell_type": "code",
   "execution_count": 23,
   "id": "08813457",
   "metadata": {},
   "outputs": [
    {
     "name": "stdout",
     "output_type": "stream",
     "text": [
      "please enter radius of circle:0.5\n",
      "area_of_circle with  radius 0.5 is:  0.7857\n"
     ]
    }
   ],
   "source": [
    "radius = (float(input(\"please enter radius of circle:\"))) \n",
    "pi = 3.1428\n",
    "area_of_circle = pi*(radius**2)\n",
    "print(f\"area_of_circle with  radius {radius} is: \" ,area_of_circle)"
   ]
  },
  {
   "cell_type": "markdown",
   "id": "9bfe30ef",
   "metadata": {},
   "source": [
    "Check Number either positive, negative or zero::\n",
    "Write a Python program to check if a number is positive,\n",
    "\n",
    "negative or zero\n",
    "\n",
    "Program Console Sample Output 1:\n",
    "\n",
    "Enter Number: -1\n",
    "\n",
    "Negative Number Entered\n",
    "\n",
    "Program Console Sample Output 2:\n",
    "\n",
    "Integer: 3\n",
    "\n",
    "Positive Number Entered\n",
    "\n",
    "Program Console Sample Output 3:\n",
    "\n",
    "Integer: 0\n",
    "\n",
    "Zero Entered"
   ]
  },
  {
   "cell_type": "code",
   "execution_count": 10,
   "id": "cb29db18",
   "metadata": {},
   "outputs": [
    {
     "name": "stdout",
     "output_type": "stream",
     "text": [
      "Enter your choice number:-4\n",
      "enter number -4,is negative number:\n"
     ]
    }
   ],
   "source": [
    "number = int(input(\"Enter your choice number:\"))\n",
    "if number > 0:\n",
    "    print(f\"enter number {number},is positive number:\" )\n",
    "elif number < 0:\n",
    "    print(f\"enter number {number},is negative number:\" )\n",
    "elif number == 0:\n",
    "    print(f\" enter number is {number}\")\n",
    "    \n",
    "    "
   ]
  },
  {
   "cell_type": "markdown",
   "id": "7a6dcbfb",
   "metadata": {},
   "source": [
    "Vowel Tester Write a Python program to test whether a passed letter is a vowel or not\n",
    "Program Console Output 1:\n",
    "\n",
    "Enter a character: A\n",
    "\n",
    "Letter A is Vowel\n",
    "\n",
    "Program Console Output 2:\n",
    "\n",
    "Enter a character: e\n",
    "\n",
    "Letter e is Vowel\n",
    "\n",
    "Program Console Output 2:\n",
    "\n",
    "Enter a character: N\n",
    "\n",
    "Letter N is not Vowel."
   ]
  },
  {
   "cell_type": "code",
   "execution_count": 32,
   "id": "e7f6c706",
   "metadata": {},
   "outputs": [
    {
     "name": "stdout",
     "output_type": "stream",
     "text": [
      "Enter your character:E\n",
      "letter E is vowel\n"
     ]
    }
   ],
   "source": [
    "character = input(\"Enter your character:\")\n",
    "vowel = \"a\",\"e\",\"i\",\"o\",\"u\",\"A\",\"E\",\"I\",\"O\",\"U\"\n",
    "if character in vowel:\n",
    "    print(f\"letter {character} is vowel\")\n",
    "else:\n",
    "    print(f\"letter {character} is not vowel\")"
   ]
  },
  {
   "cell_type": "markdown",
   "id": "72fed6d6",
   "metadata": {},
   "source": [
    "# BMI Calculator:\n",
    "\n",
    "Write a Python program to calculate body mass index Program Console Sample 1:\n",
    "\n",
    "Enter Height in Cm: 180\n",
    "\n",
    "Enter Weight in Kg: 75\n",
    "\n",
    "Your BMI is 23.15"
   ]
  },
  {
   "cell_type": "code",
   "execution_count": 38,
   "id": "77daa00b",
   "metadata": {},
   "outputs": [
    {
     "name": "stdout",
     "output_type": "stream",
     "text": [
      "Enter your height in cm:180\n",
      "Enter your weight in kg:75\n",
      "your BMI is:23.148148148148145\n"
     ]
    }
   ],
   "source": [
    "height = int(input(\"Enter your height in cm:\"))\n",
    "weight = int(input(\"Enter your weight in kg:\"))\n",
    "BMI = weight/(height/100)**2\n",
    "print(f\"your BMI is:{BMI}\")"
   ]
  },
  {
   "cell_type": "markdown",
   "id": "3eb32e29",
   "metadata": {},
   "source": [
    "# List::\n",
    "\n",
    "Store the names of a few of your friends in a list called names\n",
    "\n",
    "Print each person’s name by accessing each element in the list, one at a time."
   ]
  },
  {
   "cell_type": "code",
   "execution_count": 4,
   "id": "fb09abde",
   "metadata": {
    "scrolled": true
   },
   "outputs": [
    {
     "name": "stdout",
     "output_type": "stream",
     "text": [
      "Umer\n",
      "Zubair\n",
      "Hamza\n",
      "Honof\n",
      "Saad\n",
      "Shahbaz\n",
      "Ahad\n",
      "Murtaza\n"
     ]
    }
   ],
   "source": [
    "friends = [\"Umer\",\"Zubair\",\"Hamza\",\"Honof\",\"Saad\",\"Shahbaz\",\"Ahad\",\"Murtaza\"]\n",
    "print(friends[0])\n",
    "print(friends[1])\n",
    "print(friends[2])\n",
    "print(friends[3])\n",
    "print(friends[4])\n",
    "print(friends[5])\n",
    "print(friends[6])\n",
    "print(friends[7])"
   ]
  },
  {
   "cell_type": "markdown",
   "id": "5e340fc2",
   "metadata": {},
   "source": [
    "Start with the list you used in Question 4, but instead of just printing each person’s name, print a message to them. The text of each message should be the same, but each message should be personalized with the person’s name."
   ]
  },
  {
   "cell_type": "code",
   "execution_count": 3,
   "id": "88571592",
   "metadata": {},
   "outputs": [
    {
     "name": "stdout",
     "output_type": "stream",
     "text": [
      "Umer Hello! how have you been?\n",
      "Zubair Hello! how have you been?\n",
      "Hamza Hello! how have you been?\n",
      "Honof Hello! how have you been?\n",
      "Saad Hello! how have you been?\n",
      "Shahbaz Hello! how have you been?\n",
      "Ahad Hello! how have you been?\n",
      "Murtaza Hello! how have you been?\n"
     ]
    }
   ],
   "source": [
    "friends = [\"Umer\",\"Zubair\",\"Hamza\",\"Honof\",\"Saad\",\"Shahbaz\",\"Ahad\",\"Murtaza\"]\n",
    "print(friends[0],\"Hello! how have you been?\")\n",
    "print(friends[1],\"Hello! how have you been?\")\n",
    "print(friends[2],\"Hello! how have you been?\")\n",
    "print(friends[3],\"Hello! how have you been?\")\n",
    "print(friends[4],\"Hello! how have you been?\")\n",
    "print(friends[5],\"Hello! how have you been?\")\n",
    "print(friends[6],\"Hello! how have you been?\")\n",
    "print(friends[7],\"Hello! how have you been?\")"
   ]
  },
  {
   "cell_type": "markdown",
   "id": "ddaf17c0",
   "metadata": {},
   "source": [
    "0.Make a python program that conatains your nine favourite dishes in a list called foods. Print the message, The first three items in the list are:\n",
    "\n",
    "Then use a slice to print the first three items from that program’s list.\n",
    "\n",
    "Print the message, Three items from the middle of the list are:\n",
    "\n",
    "Use a slice to print three items from the middle of the list.\n",
    "\n",
    "Print the message, The last three items in the list are:\n",
    "\n",
    "Use a slice to print the last three items in the list."
   ]
  },
  {
   "cell_type": "code",
   "execution_count": 54,
   "id": "d026f785",
   "metadata": {},
   "outputs": [
    {
     "name": "stdout",
     "output_type": "stream",
     "text": [
      "The first items in the list are: ['Biryani', 'Broast', 'Pizza']\n",
      "Three items from the middle of the list are: ['Chinese', 'Tikka', 'karahi']\n",
      "The last three items in the list are: ['BBQ', 'Saggi', 'Zinger']\n"
     ]
    }
   ],
   "source": [
    "foods = [\"Biryani\",\"Broast\",\"Pizza\",\"Chinese\",\"Tikka\",\"karahi\",\"BBQ\",\"Saggi\",\"Zinger\"]\n",
    "print('The first items in the list are:',foods[0:3])\n",
    "print('Three items from the middle of the list are:',foods[3:6])\n",
    "print('The last three items in the list are:',foods[6:])"
   ]
  },
  {
   "cell_type": "markdown",
   "id": "ea4a46ad",
   "metadata": {},
   "source": [
    "## Start with your program from your last Question8.\n",
    "Make a copy of the list of foods, and call it friend_foods. Then, do the following:\n",
    "\n",
    "Add a new dish to the original list.\n",
    "\n",
    "Add a different dish to the list friend_foods.\n",
    "\n",
    "Prove that you have two separate lists.\n",
    "\n",
    "Print the message, My favorite pizzas are: and then use a for loop to print the first list.\n",
    "\n",
    "Print the message,\n",
    "\n",
    "My friend’s favorite foods are:, and then use a for loop to print the second list.\n",
    "\n",
    "NOTE: Make sure each new dish is stored in the appropriate list."
   ]
  },
  {
   "cell_type": "code",
   "execution_count": 55,
   "id": "7c544b47",
   "metadata": {},
   "outputs": [
    {
     "name": "stdout",
     "output_type": "stream",
     "text": [
      "['Biryani', 'Broast', 'Pizza', 'Chinese', 'Tikka', 'karahi', 'BBQ', 'Saggi', 'Zinger', 'Burger']\n",
      "['Biryani', 'Broast', 'Pizza', 'Chinese', 'Tikka', 'karahi', 'BBQ', 'Saggi', 'Zinger', 'Ice cream']\n"
     ]
    }
   ],
   "source": [
    "foods = [\"Biryani\",\"Broast\",\"Pizza\",\"Chinese\",\"Tikka\",\"karahi\",\"BBQ\",\"Saggi\",\"Zinger\"]\n",
    "friend_foods = [\"Biryani\",\"Broast\",\"Pizza\",\"Chinese\",\"Tikka\",\"karahi\",\"BBQ\",\"Saggi\",\"Zinger\"]\n",
    "foods.append(\"Burger\")\n",
    "friend_foods.append(\"Ice cream\")\n",
    "print(foods)\n",
    "print(friend_foods)"
   ]
  },
  {
   "cell_type": "code",
   "execution_count": 56,
   "id": "b4e7a591",
   "metadata": {},
   "outputs": [
    {
     "name": "stdout",
     "output_type": "stream",
     "text": [
      "My favorite pizzzas are:\n",
      "Biryani\n",
      "Broast\n",
      "Pizza\n",
      "Chinese\n",
      "Tikka\n",
      "karahi\n",
      "BBQ\n",
      "Saggi\n",
      "Zinger\n",
      "Burger\n"
     ]
    }
   ],
   "source": [
    "print(\"My favorite pizzzas are:\")\n",
    "for item in foods:\n",
    "    print(item)"
   ]
  },
  {
   "cell_type": "code",
   "execution_count": 57,
   "id": "874612f6",
   "metadata": {},
   "outputs": [
    {
     "name": "stdout",
     "output_type": "stream",
     "text": [
      "My friend's favorite foods are:\n",
      "My friends favorite foods are: Biryani\n",
      "My friends favorite foods are: Broast\n",
      "My friends favorite foods are: Pizza\n",
      "My friends favorite foods are: Chinese\n",
      "My friends favorite foods are: Tikka\n",
      "My friends favorite foods are: karahi\n",
      "My friends favorite foods are: BBQ\n",
      "My friends favorite foods are: Saggi\n",
      "My friends favorite foods are: Zinger\n",
      "My friends favorite foods are: Ice cream\n"
     ]
    }
   ],
   "source": [
    "print(\"My friend's favorite foods are:\")\n",
    "for item in friend_foods:\n",
    "    print(\"My friends favorite foods are:\",item)"
   ]
  },
  {
   "cell_type": "code",
   "execution_count": 64,
   "id": "ba8d2f9a",
   "metadata": {},
   "outputs": [
    {
     "name": "stdout",
     "output_type": "stream",
     "text": [
      "jamesjamesjamesjamesjamesjames\n"
     ]
    }
   ],
   "source": [
    "var = \"james\" *2*3\n",
    "print(var)"
   ]
  },
  {
   "cell_type": "code",
   "execution_count": 65,
   "id": "6dc6c7fd",
   "metadata": {},
   "outputs": [
    {
     "name": "stdout",
     "output_type": "stream",
     "text": [
      "True\n",
      "False\n"
     ]
    }
   ],
   "source": [
    "l1 = [20,40,60]\n",
    "l2 = [20,40,60]\n",
    "print (l1==l2)\n",
    "print(l1 is l2)"
   ]
  },
  {
   "cell_type": "code",
   "execution_count": 66,
   "id": "e6722b9c",
   "metadata": {},
   "outputs": [
    {
     "name": "stdout",
     "output_type": "stream",
     "text": [
      "maj\n"
     ]
    }
   ],
   "source": [
    "var = \"james bond\"\n",
    "print(var[2::-1])"
   ]
  },
  {
   "cell_type": "code",
   "execution_count": 67,
   "id": "15666c6a",
   "metadata": {},
   "outputs": [
    {
     "ename": "TypeError",
     "evalue": "'float' object cannot be interpreted as an integer",
     "output_type": "error",
     "traceback": [
      "\u001b[1;31m---------------------------------------------------------------------------\u001b[0m",
      "\u001b[1;31mTypeError\u001b[0m                                 Traceback (most recent call last)",
      "Input \u001b[1;32mIn [67]\u001b[0m, in \u001b[0;36m<cell line: 1>\u001b[1;34m()\u001b[0m\n\u001b[1;32m----> 1\u001b[0m \u001b[38;5;28;01mfor\u001b[39;00m x \u001b[38;5;129;01min\u001b[39;00m \u001b[38;5;28;43mrange\u001b[39;49m\u001b[43m(\u001b[49m\u001b[38;5;241;43m0.5\u001b[39;49m\u001b[43m,\u001b[49m\u001b[38;5;241;43m5.5\u001b[39;49m\u001b[43m,\u001b[49m\u001b[38;5;241;43m0.5\u001b[39;49m\u001b[43m)\u001b[49m:\n\u001b[0;32m      2\u001b[0m     \u001b[38;5;28mprint\u001b[39m(x)\n",
      "\u001b[1;31mTypeError\u001b[0m: 'float' object cannot be interpreted as an integer"
     ]
    }
   ],
   "source": [
    "for x in range(0.5,5.5,0.5):\n",
    "    print(x)\n"
   ]
  },
  {
   "cell_type": "code",
   "execution_count": 68,
   "id": "1a4c8ede",
   "metadata": {},
   "outputs": [
    {
     "name": "stdout",
     "output_type": "stream",
     "text": [
      "182.0\n"
     ]
    }
   ],
   "source": [
    "x = 36/4 * (3+2)*4+2\n",
    "print(x)"
   ]
  },
  {
   "cell_type": "code",
   "execution_count": null,
   "id": "50444605",
   "metadata": {},
   "outputs": [],
   "source": []
  }
 ],
 "metadata": {
  "kernelspec": {
   "display_name": "Python 3 (ipykernel)",
   "language": "python",
   "name": "python3"
  },
  "language_info": {
   "codemirror_mode": {
    "name": "ipython",
    "version": 3
   },
   "file_extension": ".py",
   "mimetype": "text/x-python",
   "name": "python",
   "nbconvert_exporter": "python",
   "pygments_lexer": "ipython3",
   "version": "3.9.12"
  }
 },
 "nbformat": 4,
 "nbformat_minor": 5
}
